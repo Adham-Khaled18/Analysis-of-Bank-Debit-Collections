{
 "cells": [
  {
   "cell_type": "code",
   "execution_count": 1,
   "metadata": {},
   "outputs": [],
   "source": [
    "import pandas as pd\n",
    "import numpy as np\n",
    "import seaborn as sns\n",
    "import matplotlib.pyplot as plt\n"
   ]
  },
  {
   "cell_type": "code",
   "execution_count": 2,
   "metadata": {},
   "outputs": [],
   "source": [
    "df = pd.read_csv(\"bank_data.csv\")"
   ]
  },
  {
   "cell_type": "code",
   "execution_count": 3,
   "metadata": {},
   "outputs": [
    {
     "data": {
      "text/html": [
       "<div>\n",
       "<style scoped>\n",
       "    .dataframe tbody tr th:only-of-type {\n",
       "        vertical-align: middle;\n",
       "    }\n",
       "\n",
       "    .dataframe tbody tr th {\n",
       "        vertical-align: top;\n",
       "    }\n",
       "\n",
       "    .dataframe thead th {\n",
       "        text-align: right;\n",
       "    }\n",
       "</style>\n",
       "<table border=\"1\" class=\"dataframe\">\n",
       "  <thead>\n",
       "    <tr style=\"text-align: right;\">\n",
       "      <th></th>\n",
       "      <th>id</th>\n",
       "      <th>expected_recovery_amount</th>\n",
       "      <th>actual_recovery_amount</th>\n",
       "      <th>recovery_strategy</th>\n",
       "      <th>age</th>\n",
       "      <th>sex</th>\n",
       "    </tr>\n",
       "  </thead>\n",
       "  <tbody>\n",
       "    <tr>\n",
       "      <th>0</th>\n",
       "      <td>2030</td>\n",
       "      <td>194</td>\n",
       "      <td>263.540</td>\n",
       "      <td>Level 0 Recovery</td>\n",
       "      <td>19</td>\n",
       "      <td>Male</td>\n",
       "    </tr>\n",
       "    <tr>\n",
       "      <th>1</th>\n",
       "      <td>1150</td>\n",
       "      <td>486</td>\n",
       "      <td>416.090</td>\n",
       "      <td>Level 0 Recovery</td>\n",
       "      <td>25</td>\n",
       "      <td>Female</td>\n",
       "    </tr>\n",
       "    <tr>\n",
       "      <th>2</th>\n",
       "      <td>380</td>\n",
       "      <td>527</td>\n",
       "      <td>429.350</td>\n",
       "      <td>Level 0 Recovery</td>\n",
       "      <td>27</td>\n",
       "      <td>Male</td>\n",
       "    </tr>\n",
       "    <tr>\n",
       "      <th>3</th>\n",
       "      <td>1838</td>\n",
       "      <td>536</td>\n",
       "      <td>296.990</td>\n",
       "      <td>Level 0 Recovery</td>\n",
       "      <td>25</td>\n",
       "      <td>Male</td>\n",
       "    </tr>\n",
       "    <tr>\n",
       "      <th>4</th>\n",
       "      <td>1995</td>\n",
       "      <td>541</td>\n",
       "      <td>346.385</td>\n",
       "      <td>Level 0 Recovery</td>\n",
       "      <td>34</td>\n",
       "      <td>Male</td>\n",
       "    </tr>\n",
       "  </tbody>\n",
       "</table>\n",
       "</div>"
      ],
      "text/plain": [
       "     id  expected_recovery_amount  actual_recovery_amount recovery_strategy  \\\n",
       "0  2030                       194                 263.540  Level 0 Recovery   \n",
       "1  1150                       486                 416.090  Level 0 Recovery   \n",
       "2   380                       527                 429.350  Level 0 Recovery   \n",
       "3  1838                       536                 296.990  Level 0 Recovery   \n",
       "4  1995                       541                 346.385  Level 0 Recovery   \n",
       "\n",
       "   age     sex  \n",
       "0   19    Male  \n",
       "1   25  Female  \n",
       "2   27    Male  \n",
       "3   25    Male  \n",
       "4   34    Male  "
      ]
     },
     "execution_count": 3,
     "metadata": {},
     "output_type": "execute_result"
    }
   ],
   "source": [
    "df.head()"
   ]
  },
  {
   "cell_type": "code",
   "execution_count": 4,
   "metadata": {},
   "outputs": [
    {
     "data": {
      "text/html": [
       "<div>\n",
       "<style scoped>\n",
       "    .dataframe tbody tr th:only-of-type {\n",
       "        vertical-align: middle;\n",
       "    }\n",
       "\n",
       "    .dataframe tbody tr th {\n",
       "        vertical-align: top;\n",
       "    }\n",
       "\n",
       "    .dataframe thead th {\n",
       "        text-align: right;\n",
       "    }\n",
       "</style>\n",
       "<table border=\"1\" class=\"dataframe\">\n",
       "  <thead>\n",
       "    <tr style=\"text-align: right;\">\n",
       "      <th></th>\n",
       "      <th>id</th>\n",
       "      <th>expected_recovery_amount</th>\n",
       "      <th>actual_recovery_amount</th>\n",
       "      <th>age</th>\n",
       "    </tr>\n",
       "  </thead>\n",
       "  <tbody>\n",
       "    <tr>\n",
       "      <th>count</th>\n",
       "      <td>1882.000000</td>\n",
       "      <td>1882.000000</td>\n",
       "      <td>1882.000000</td>\n",
       "      <td>1882.000000</td>\n",
       "    </tr>\n",
       "    <tr>\n",
       "      <th>mean</th>\n",
       "      <td>1035.596174</td>\n",
       "      <td>2759.967588</td>\n",
       "      <td>4000.967837</td>\n",
       "      <td>39.650372</td>\n",
       "    </tr>\n",
       "    <tr>\n",
       "      <th>std</th>\n",
       "      <td>591.458429</td>\n",
       "      <td>2019.826565</td>\n",
       "      <td>4576.506350</td>\n",
       "      <td>15.453072</td>\n",
       "    </tr>\n",
       "    <tr>\n",
       "      <th>min</th>\n",
       "      <td>6.000000</td>\n",
       "      <td>194.000000</td>\n",
       "      <td>200.425000</td>\n",
       "      <td>18.000000</td>\n",
       "    </tr>\n",
       "    <tr>\n",
       "      <th>25%</th>\n",
       "      <td>534.250000</td>\n",
       "      <td>1261.250000</td>\n",
       "      <td>1045.190300</td>\n",
       "      <td>28.000000</td>\n",
       "    </tr>\n",
       "    <tr>\n",
       "      <th>50%</th>\n",
       "      <td>1029.500000</td>\n",
       "      <td>2062.000000</td>\n",
       "      <td>2115.446373</td>\n",
       "      <td>35.000000</td>\n",
       "    </tr>\n",
       "    <tr>\n",
       "      <th>75%</th>\n",
       "      <td>1551.750000</td>\n",
       "      <td>3569.500000</td>\n",
       "      <td>5417.237207</td>\n",
       "      <td>50.000000</td>\n",
       "    </tr>\n",
       "    <tr>\n",
       "      <th>max</th>\n",
       "      <td>2056.000000</td>\n",
       "      <td>9964.000000</td>\n",
       "      <td>34398.479710</td>\n",
       "      <td>84.000000</td>\n",
       "    </tr>\n",
       "  </tbody>\n",
       "</table>\n",
       "</div>"
      ],
      "text/plain": [
       "                id  expected_recovery_amount  actual_recovery_amount  \\\n",
       "count  1882.000000               1882.000000             1882.000000   \n",
       "mean   1035.596174               2759.967588             4000.967837   \n",
       "std     591.458429               2019.826565             4576.506350   \n",
       "min       6.000000                194.000000              200.425000   \n",
       "25%     534.250000               1261.250000             1045.190300   \n",
       "50%    1029.500000               2062.000000             2115.446373   \n",
       "75%    1551.750000               3569.500000             5417.237207   \n",
       "max    2056.000000               9964.000000            34398.479710   \n",
       "\n",
       "               age  \n",
       "count  1882.000000  \n",
       "mean     39.650372  \n",
       "std      15.453072  \n",
       "min      18.000000  \n",
       "25%      28.000000  \n",
       "50%      35.000000  \n",
       "75%      50.000000  \n",
       "max      84.000000  "
      ]
     },
     "execution_count": 4,
     "metadata": {},
     "output_type": "execute_result"
    }
   ],
   "source": [
    "df.describe()"
   ]
  },
  {
   "cell_type": "code",
   "execution_count": 5,
   "metadata": {},
   "outputs": [
    {
     "data": {
      "image/png": "[encoded data removed]",
      "text/plain": [
       "<Figure size 640x480 with 1 Axes>"
      ]
     },
     "metadata": {},
     "output_type": "display_data"
    }
   ],
   "source": [
    "df_filtered = df[(df['expected_recovery_amount']>= 0) & (df['expected_recovery_amount']<=2000)]\n",
    "plt.scatter(df_filtered['expected_recovery_amount'],df_filtered['age'])\n",
    "plt.xlabel('Expected recovery amount')\n",
    "plt.ylabel('Age')\n",
    "plt.show()"
   ]
  },
  {
   "attachments": {},
   "cell_type": "markdown",
   "metadata": {},
   "source": [
    "no discontinuinity"
   ]
  },
  {
   "cell_type": "code",
   "execution_count": 7,
   "metadata": {},
   "outputs": [
    {
     "name": "stdout",
     "output_type": "stream",
     "text": [
      "percentage_of_males:  51.70031880977683 %\n"
     ]
    }
   ],
   "source": [
    "df_filtered = df[(df['expected_recovery_amount'] >=900)&(df['expected_recovery_amount']<=1100)]\n",
    "male_count =df[df['sex']=='Male'].shape[0]\n",
    "total_rows = df.shape[0]\n",
    "percentage_of_males = (male_count / total_rows) * 100\n",
    "print(\"percentage_of_males: \" , percentage_of_males , \"%\")"
   ]
  },
  {
   "cell_type": "code",
   "execution_count": 9,
   "metadata": {},
   "outputs": [
    {
     "data": {
      "image/png": "[encoded data removed]",
      "text/plain": [
       "<Figure size 640x480 with 1 Axes>"
      ]
     },
     "metadata": {},
     "output_type": "display_data"
    }
   ],
   "source": [
    "df_filtered = df[(df['expected_recovery_amount'] >=900)&(df['expected_recovery_amount']<=1100)]\n",
    "plt.scatter(df_filtered['actual_recovery_amount'],df_filtered['expected_recovery_amount'])\n",
    "plt.xlabel('Actual Recovery Amount')\n",
    "plt.ylabel('Expected Recovery Amount')\n",
    "plt.show()"
   ]
  },
  {
   "cell_type": "code",
   "execution_count": 11,
   "metadata": {},
   "outputs": [
    {
     "name": "stdout",
     "output_type": "stream",
     "text": [
      "Kruskal-Wallis test statistic:  183.0\n",
      "p_value:  0.48609714517719294\n"
     ]
    }
   ],
   "source": [
    "from scipy.stats import kruskal\n",
    "df_filtered = df[(df['expected_recovery_amount'] >=900)&(df['expected_recovery_amount']<=1100)]\n",
    "grouped_data = df_filtered.groupby('actual_recovery_amount')['expected_recovery_amount'].apply(list)\n",
    "statistic, p_value = kruskal(*grouped_data)\n",
    "print(\"Kruskal-Wallis test statistic: \",statistic)\n",
    "print(\"p_value: \", p_value)"
   ]
  },
  {
   "cell_type": "code",
   "execution_count": 12,
   "metadata": {},
   "outputs": [
    {
     "name": "stdout",
     "output_type": "stream",
     "text": [
      "Kruskal-Wallis test statistic:  99.0\n",
      "p_value:  0.4810969124082639\n"
     ]
    }
   ],
   "source": [
    "from scipy.stats import kruskal\n",
    "df_filtered = df[(df['expected_recovery_amount'] >=950)&(df['expected_recovery_amount']<=1050)]\n",
    "grouped_data = df_filtered.groupby('actual_recovery_amount')['expected_recovery_amount'].apply(list)\n",
    "statistic, p_value = kruskal(*grouped_data)\n",
    "print(\"Kruskal-Wallis test statistic: \",statistic)\n",
    "print(\"p_value: \", p_value)"
   ]
  },
  {
   "cell_type": "code",
   "execution_count": 22,
   "metadata": {},
   "outputs": [
    {
     "data": {
      "text/html": [
       "<table class=\"simpletable\">\n",
       "<caption>OLS Regression Results</caption>\n",
       "<tr>\n",
       "  <th>Dep. Variable:</th>    <td>actual_recovery_amount</td> <th>  R-squared:         </th> <td>   0.253</td>\n",
       "</tr>\n",
       "<tr>\n",
       "  <th>Model:</th>                      <td>OLS</td>          <th>  Adj. R-squared:    </th> <td>   0.248</td>\n",
       "</tr>\n",
       "<tr>\n",
       "  <th>Method:</th>                <td>Least Squares</td>     <th>  F-statistic:       </th> <td>   61.48</td>\n",
       "</tr>\n",
       "<tr>\n",
       "  <th>Date:</th>                <td>Sun, 23 Jul 2023</td>    <th>  Prob (F-statistic):</th> <td>3.65e-13</td>\n",
       "</tr>\n",
       "<tr>\n",
       "  <th>Time:</th>                    <td>01:48:20</td>        <th>  Log-Likelihood:    </th> <td> -1286.5</td>\n",
       "</tr>\n",
       "<tr>\n",
       "  <th>No. Observations:</th>         <td>   184</td>         <th>  AIC:               </th> <td>   2577.</td>\n",
       "</tr>\n",
       "<tr>\n",
       "  <th>Df Residuals:</th>             <td>   182</td>         <th>  BIC:               </th> <td>   2583.</td>\n",
       "</tr>\n",
       "<tr>\n",
       "  <th>Df Model:</th>                 <td>     1</td>         <th>                     </th>     <td> </td>   \n",
       "</tr>\n",
       "<tr>\n",
       "  <th>Covariance Type:</th>         <td>nonrobust</td>       <th>                     </th>     <td> </td>   \n",
       "</tr>\n",
       "</table>\n",
       "<table class=\"simpletable\">\n",
       "<tr>\n",
       "              <td></td>                <th>coef</th>     <th>std err</th>      <th>t</th>      <th>P>|t|</th>  <th>[0.025</th>    <th>0.975]</th>  \n",
       "</tr>\n",
       "<tr>\n",
       "  <th>const</th>                    <td>-1918.4549</td> <td>  346.395</td> <td>   -5.538</td> <td> 0.000</td> <td>-2601.920</td> <td>-1234.989</td>\n",
       "</tr>\n",
       "<tr>\n",
       "  <th>expected_recovery_amount</th> <td>    2.6956</td> <td>    0.344</td> <td>    7.841</td> <td> 0.000</td> <td>    2.017</td> <td>    3.374</td>\n",
       "</tr>\n",
       "</table>\n",
       "<table class=\"simpletable\">\n",
       "<tr>\n",
       "  <th>Omnibus:</th>       <td>64.512</td> <th>  Durbin-Watson:     </th> <td>   1.786</td>\n",
       "</tr>\n",
       "<tr>\n",
       "  <th>Prob(Omnibus):</th> <td> 0.000</td> <th>  Jarque-Bera (JB):  </th> <td> 185.639</td>\n",
       "</tr>\n",
       "<tr>\n",
       "  <th>Skew:</th>          <td> 1.457</td> <th>  Prob(JB):          </th> <td>4.89e-41</td>\n",
       "</tr>\n",
       "<tr>\n",
       "  <th>Kurtosis:</th>      <td> 6.965</td> <th>  Cond. No.          </th> <td>1.79e+04</td>\n",
       "</tr>\n",
       "</table><br/><br/>Notes:<br/>[1] Standard Errors assume that the covariance matrix of the errors is correctly specified.<br/>[2] The condition number is large, 1.79e+04. This might indicate that there are<br/>strong multicollinearity or other numerical problems."
      ],
      "text/plain": [
       "<class 'statsmodels.iolib.summary.Summary'>\n",
       "\"\"\"\n",
       "                              OLS Regression Results                              \n",
       "==================================================================================\n",
       "Dep. Variable:     actual_recovery_amount   R-squared:                       0.253\n",
       "Model:                                OLS   Adj. R-squared:                  0.248\n",
       "Method:                     Least Squares   F-statistic:                     61.48\n",
       "Date:                    Sun, 23 Jul 2023   Prob (F-statistic):           3.65e-13\n",
       "Time:                            01:48:20   Log-Likelihood:                -1286.5\n",
       "No. Observations:                     184   AIC:                             2577.\n",
       "Df Residuals:                         182   BIC:                             2583.\n",
       "Df Model:                               1                                         \n",
       "Covariance Type:                nonrobust                                         \n",
       "============================================================================================\n",
       "                               coef    std err          t      P>|t|      [0.025      0.975]\n",
       "--------------------------------------------------------------------------------------------\n",
       "const                    -1918.4549    346.395     -5.538      0.000   -2601.920   -1234.989\n",
       "expected_recovery_amount     2.6956      0.344      7.841      0.000       2.017       3.374\n",
       "==============================================================================\n",
       "Omnibus:                       64.512   Durbin-Watson:                   1.786\n",
       "Prob(Omnibus):                  0.000   Jarque-Bera (JB):              185.639\n",
       "Skew:                           1.457   Prob(JB):                     4.89e-41\n",
       "Kurtosis:                       6.965   Cond. No.                     1.79e+04\n",
       "==============================================================================\n",
       "\n",
       "Notes:\n",
       "[1] Standard Errors assume that the covariance matrix of the errors is correctly specified.\n",
       "[2] The condition number is large, 1.79e+04. This might indicate that there are\n",
       "strong multicollinearity or other numerical problems.\n",
       "\"\"\""
      ]
     },
     "execution_count": 22,
     "metadata": {},
     "output_type": "execute_result"
    }
   ],
   "source": [
    "import statsmodels.api as sm\n",
    "df_filtered = df[(df['expected_recovery_amount'] >=900)&(df['expected_recovery_amount']<=1100)]\n",
    "X = df_filtered [['expected_recovery_amount']]\n",
    "y = df_filtered ['actual_recovery_amount']\n",
    "\n",
    "X = sm.add_constant(X)\n",
    "model = sm.OLS(y,X).fit()\n",
    "model.summary()\n"
   ]
  },
  {
   "cell_type": "code",
   "execution_count": 24,
   "metadata": {},
   "outputs": [
    {
     "data": {
      "text/html": [
       "<table class=\"simpletable\">\n",
       "<caption>OLS Regression Results</caption>\n",
       "<tr>\n",
       "  <th>Dep. Variable:</th>    <td>actual_recovery_amount</td> <th>  R-squared:         </th> <td>   0.309</td>\n",
       "</tr>\n",
       "<tr>\n",
       "  <th>Model:</th>                      <td>OLS</td>          <th>  Adj. R-squared:    </th> <td>   0.301</td>\n",
       "</tr>\n",
       "<tr>\n",
       "  <th>Method:</th>                <td>Least Squares</td>     <th>  F-statistic:       </th> <td>   40.43</td>\n",
       "</tr>\n",
       "<tr>\n",
       "  <th>Date:</th>                <td>Sun, 23 Jul 2023</td>    <th>  Prob (F-statistic):</th> <td>3.06e-15</td>\n",
       "</tr>\n",
       "<tr>\n",
       "  <th>Time:</th>                    <td>01:51:44</td>        <th>  Log-Likelihood:    </th> <td> -1279.3</td>\n",
       "</tr>\n",
       "<tr>\n",
       "  <th>No. Observations:</th>         <td>   184</td>         <th>  AIC:               </th> <td>   2565.</td>\n",
       "</tr>\n",
       "<tr>\n",
       "  <th>Df Residuals:</th>             <td>   181</td>         <th>  BIC:               </th> <td>   2574.</td>\n",
       "</tr>\n",
       "<tr>\n",
       "  <th>Df Model:</th>                 <td>     2</td>         <th>                     </th>     <td> </td>   \n",
       "</tr>\n",
       "<tr>\n",
       "  <th>Covariance Type:</th>         <td>nonrobust</td>       <th>                     </th>     <td> </td>   \n",
       "</tr>\n",
       "</table>\n",
       "<table class=\"simpletable\">\n",
       "<tr>\n",
       "              <td></td>                <th>coef</th>     <th>std err</th>      <th>t</th>      <th>P>|t|</th>  <th>[0.025</th>    <th>0.975]</th>  \n",
       "</tr>\n",
       "<tr>\n",
       "  <th>const</th>                    <td>   98.8272</td> <td>  622.659</td> <td>    0.159</td> <td> 0.874</td> <td>-1129.777</td> <td> 1327.431</td>\n",
       "</tr>\n",
       "<tr>\n",
       "  <th>expected_recovery_amount</th> <td>    0.5430</td> <td>    0.651</td> <td>    0.834</td> <td> 0.406</td> <td>   -0.742</td> <td>    1.828</td>\n",
       "</tr>\n",
       "<tr>\n",
       "  <th>threshold</th>                <td>  284.0296</td> <td>   73.988</td> <td>    3.839</td> <td> 0.000</td> <td>  138.041</td> <td>  430.019</td>\n",
       "</tr>\n",
       "</table>\n",
       "<table class=\"simpletable\">\n",
       "<tr>\n",
       "  <th>Omnibus:</th>       <td>66.386</td> <th>  Durbin-Watson:     </th> <td>   1.921</td>\n",
       "</tr>\n",
       "<tr>\n",
       "  <th>Prob(Omnibus):</th> <td> 0.000</td> <th>  Jarque-Bera (JB):  </th> <td> 188.158</td>\n",
       "</tr>\n",
       "<tr>\n",
       "  <th>Skew:</th>          <td> 1.512</td> <th>  Prob(JB):          </th> <td>1.39e-41</td>\n",
       "</tr>\n",
       "<tr>\n",
       "  <th>Kurtosis:</th>      <td> 6.924</td> <th>  Cond. No.          </th> <td>3.35e+04</td>\n",
       "</tr>\n",
       "</table><br/><br/>Notes:<br/>[1] Standard Errors assume that the covariance matrix of the errors is correctly specified.<br/>[2] The condition number is large, 3.35e+04. This might indicate that there are<br/>strong multicollinearity or other numerical problems."
      ],
      "text/plain": [
       "<class 'statsmodels.iolib.summary.Summary'>\n",
       "\"\"\"\n",
       "                              OLS Regression Results                              \n",
       "==================================================================================\n",
       "Dep. Variable:     actual_recovery_amount   R-squared:                       0.309\n",
       "Model:                                OLS   Adj. R-squared:                  0.301\n",
       "Method:                     Least Squares   F-statistic:                     40.43\n",
       "Date:                    Sun, 23 Jul 2023   Prob (F-statistic):           3.06e-15\n",
       "Time:                            01:51:44   Log-Likelihood:                -1279.3\n",
       "No. Observations:                     184   AIC:                             2565.\n",
       "Df Residuals:                         181   BIC:                             2574.\n",
       "Df Model:                               2                                         \n",
       "Covariance Type:                nonrobust                                         \n",
       "============================================================================================\n",
       "                               coef    std err          t      P>|t|      [0.025      0.975]\n",
       "--------------------------------------------------------------------------------------------\n",
       "const                       98.8272    622.659      0.159      0.874   -1129.777    1327.431\n",
       "expected_recovery_amount     0.5430      0.651      0.834      0.406      -0.742       1.828\n",
       "threshold                  284.0296     73.988      3.839      0.000     138.041     430.019\n",
       "==============================================================================\n",
       "Omnibus:                       66.386   Durbin-Watson:                   1.921\n",
       "Prob(Omnibus):                  0.000   Jarque-Bera (JB):              188.158\n",
       "Skew:                           1.512   Prob(JB):                     1.39e-41\n",
       "Kurtosis:                       6.924   Cond. No.                     3.35e+04\n",
       "==============================================================================\n",
       "\n",
       "Notes:\n",
       "[1] Standard Errors assume that the covariance matrix of the errors is correctly specified.\n",
       "[2] The condition number is large, 3.35e+04. This might indicate that there are\n",
       "strong multicollinearity or other numerical problems.\n",
       "\"\"\""
      ]
     },
     "execution_count": 24,
     "metadata": {},
     "output_type": "execute_result"
    }
   ],
   "source": [
    "import statsmodels.api as sm\n",
    "df['threshold']= np.where(df['expected_recovery_amount']<1000,0,1)\n",
    "df_filtered = df[(df['expected_recovery_amount'] >=900)&(df['expected_recovery_amount']<=1100)]\n",
    "X = df_filtered [['expected_recovery_amount','threshold']]\n",
    "y = df_filtered ['actual_recovery_amount']\n",
    "\n",
    "X = sm.add_constant(X)\n",
    "model = sm.OLS(y,X).fit()\n",
    "model.summary()\n"
   ]
  },
  {
   "cell_type": "code",
   "execution_count": 27,
   "metadata": {},
   "outputs": [
    {
     "data": {
      "text/html": [
       "<table class=\"simpletable\">\n",
       "<caption>OLS Regression Results</caption>\n",
       "<tr>\n",
       "  <th>Dep. Variable:</th>    <td>actual_recovery_amount</td> <th>  R-squared:         </th> <td>   0.238</td>\n",
       "</tr>\n",
       "<tr>\n",
       "  <th>Model:</th>                      <td>OLS</td>          <th>  Adj. R-squared:    </th> <td>   0.230</td>\n",
       "</tr>\n",
       "<tr>\n",
       "  <th>Method:</th>                <td>Least Squares</td>     <th>  F-statistic:       </th> <td>   30.64</td>\n",
       "</tr>\n",
       "<tr>\n",
       "  <th>Date:</th>                <td>Sun, 23 Jul 2023</td>    <th>  Prob (F-statistic):</th> <td>2.60e-07</td>\n",
       "</tr>\n",
       "<tr>\n",
       "  <th>Time:</th>                    <td>01:53:39</td>        <th>  Log-Likelihood:    </th> <td> -702.76</td>\n",
       "</tr>\n",
       "<tr>\n",
       "  <th>No. Observations:</th>         <td>   100</td>         <th>  AIC:               </th> <td>   1410.</td>\n",
       "</tr>\n",
       "<tr>\n",
       "  <th>Df Residuals:</th>             <td>    98</td>         <th>  BIC:               </th> <td>   1415.</td>\n",
       "</tr>\n",
       "<tr>\n",
       "  <th>Df Model:</th>                 <td>     1</td>         <th>                     </th>     <td> </td>   \n",
       "</tr>\n",
       "<tr>\n",
       "  <th>Covariance Type:</th>         <td>nonrobust</td>       <th>                     </th>     <td> </td>   \n",
       "</tr>\n",
       "</table>\n",
       "<table class=\"simpletable\">\n",
       "<tr>\n",
       "              <td></td>                <th>coef</th>     <th>std err</th>      <th>t</th>      <th>P>|t|</th>  <th>[0.025</th>    <th>0.975]</th>  \n",
       "</tr>\n",
       "<tr>\n",
       "  <th>const</th>                    <td>-4365.0780</td> <td>  928.299</td> <td>   -4.702</td> <td> 0.000</td> <td>-6207.257</td> <td>-2522.899</td>\n",
       "</tr>\n",
       "<tr>\n",
       "  <th>expected_recovery_amount</th> <td>    5.1385</td> <td>    0.928</td> <td>    5.535</td> <td> 0.000</td> <td>    3.296</td> <td>    6.981</td>\n",
       "</tr>\n",
       "</table>\n",
       "<table class=\"simpletable\">\n",
       "<tr>\n",
       "  <th>Omnibus:</th>       <td>45.225</td> <th>  Durbin-Watson:     </th> <td>   1.845</td>\n",
       "</tr>\n",
       "<tr>\n",
       "  <th>Prob(Omnibus):</th> <td> 0.000</td> <th>  Jarque-Bera (JB):  </th> <td> 113.157</td>\n",
       "</tr>\n",
       "<tr>\n",
       "  <th>Skew:</th>          <td> 1.694</td> <th>  Prob(JB):          </th> <td>2.68e-25</td>\n",
       "</tr>\n",
       "<tr>\n",
       "  <th>Kurtosis:</th>      <td> 6.960</td> <th>  Cond. No.          </th> <td>3.37e+04</td>\n",
       "</tr>\n",
       "</table><br/><br/>Notes:<br/>[1] Standard Errors assume that the covariance matrix of the errors is correctly specified.<br/>[2] The condition number is large, 3.37e+04. This might indicate that there are<br/>strong multicollinearity or other numerical problems."
      ],
      "text/plain": [
       "<class 'statsmodels.iolib.summary.Summary'>\n",
       "\"\"\"\n",
       "                              OLS Regression Results                              \n",
       "==================================================================================\n",
       "Dep. Variable:     actual_recovery_amount   R-squared:                       0.238\n",
       "Model:                                OLS   Adj. R-squared:                  0.230\n",
       "Method:                     Least Squares   F-statistic:                     30.64\n",
       "Date:                    Sun, 23 Jul 2023   Prob (F-statistic):           2.60e-07\n",
       "Time:                            01:53:39   Log-Likelihood:                -702.76\n",
       "No. Observations:                     100   AIC:                             1410.\n",
       "Df Residuals:                          98   BIC:                             1415.\n",
       "Df Model:                               1                                         \n",
       "Covariance Type:                nonrobust                                         \n",
       "============================================================================================\n",
       "                               coef    std err          t      P>|t|      [0.025      0.975]\n",
       "--------------------------------------------------------------------------------------------\n",
       "const                    -4365.0780    928.299     -4.702      0.000   -6207.257   -2522.899\n",
       "expected_recovery_amount     5.1385      0.928      5.535      0.000       3.296       6.981\n",
       "==============================================================================\n",
       "Omnibus:                       45.225   Durbin-Watson:                   1.845\n",
       "Prob(Omnibus):                  0.000   Jarque-Bera (JB):              113.157\n",
       "Skew:                           1.694   Prob(JB):                     2.68e-25\n",
       "Kurtosis:                       6.960   Cond. No.                     3.37e+04\n",
       "==============================================================================\n",
       "\n",
       "Notes:\n",
       "[1] Standard Errors assume that the covariance matrix of the errors is correctly specified.\n",
       "[2] The condition number is large, 3.37e+04. This might indicate that there are\n",
       "strong multicollinearity or other numerical problems.\n",
       "\"\"\""
      ]
     },
     "execution_count": 27,
     "metadata": {},
     "output_type": "execute_result"
    }
   ],
   "source": [
    "import statsmodels.api as sm\n",
    "df_filtered = df[(df['expected_recovery_amount'] >=950)&(df['expected_recovery_amount']<=1050)]\n",
    "X = df_filtered [['expected_recovery_amount']]\n",
    "y = df_filtered ['actual_recovery_amount']\n",
    "X = sm.add_constant(X)\n",
    "model = sm.OLS(y,X).fit()\n",
    "model.summary()\n"
   ]
  }
 ],
 "metadata": {
  "kernelspec": {
   "display_name": "base",
   "language": "python",
   "name": "python3"
  },
  "language_info": {
   "codemirror_mode": {
    "name": "ipython",
    "version": 3
   },
   "file_extension": ".py",
   "mimetype": "text/x-python",
   "name": "python",
   "nbconvert_exporter": "python",
   "pygments_lexer": "ipython3",
   "version": "3.9.13"
  },
  "orig_nbformat": 4
 },
 "nbformat": 4,
 "nbformat_minor": 2
}
